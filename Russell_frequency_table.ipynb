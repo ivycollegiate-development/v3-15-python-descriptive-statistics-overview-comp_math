{
 "cells": [
  {
   "cell_type": "code",
   "execution_count": 3,
   "metadata": {},
   "outputs": [
    {
     "name": "stdout",
     "output_type": "stream",
     "text": [
      "Mean using Built in Python functions: 15.25\n",
      "Mean using Mean Function from Statistics Library: 15.25\n",
      "Mean using Mean Function from Numpy Library: 15.25\n"
     ]
    }
   ],
   "source": [
    "numbers = [12, 15, 12, 18, 20, 12, 15, 18]\n",
    "# Choose your preferred method and complete the function:\n",
    "\n",
    "# Method 1: Using built-in functions\n",
    "def calculate_mean_v1(numbers):\n",
    "    # Structure provided:\n",
    "    total = sum(numbers)  # Use sum()\n",
    "    count = len(numbers)  # Use len()\n",
    "    mean = total/count  # Divide total by count\n",
    "    return mean\n",
    "\n",
    "# Method 2: Using statistics module\n",
    "from statistics import mean\n",
    "def calculate_mean_v2(numbers):\n",
    "    return mean(numbers) # mean()\n",
    "  # Use statistics.mean()\n",
    "\n",
    "# Method 3: Using numpy\n",
    "import numpy as np\n",
    "def calculate_mean_v3(numbers):\n",
    "    return mean(numbers) # mean()  \n",
    "    # Use np.mean()\n",
    "\n",
    "print (\"Mean using Built in Python functions:\", calculate_mean_v1(numbers))\n",
    "print (\"Mean using Mean Function from Statistics Library:\", calculate_mean_v2(numbers))\n",
    "print (\"Mean using Mean Function from Numpy Library:\", calculate_mean_v3(numbers))"
   ]
  },
  {
   "cell_type": "code",
   "execution_count": 4,
   "metadata": {},
   "outputs": [
    {
     "ename": "SyntaxError",
     "evalue": "invalid syntax (2621761035.py, line 8)",
     "output_type": "error",
     "traceback": [
      "\u001b[0;36m  Cell \u001b[0;32mIn[4], line 8\u001b[0;36m\u001b[0m\n\u001b[0;31m    max_count = max(counts.__?__) # Find the highest count\u001b[0m\n\u001b[0m                             ^\u001b[0m\n\u001b[0;31mSyntaxError\u001b[0m\u001b[0;31m:\u001b[0m invalid syntax\n"
     ]
    }
   ],
   "source": [
    "numbers = [12, 15, 12, 18, 20, 12, 15, 18]\n",
    "\n",
    "# Approach 1: Using Counter\n",
    "from collections import Counter\n",
    "def find_mode_v1(numbers):\n",
    "    # Create Counter object\n",
    "    counts = Counter(numbers)  # Count occurances\n",
    "    max_count = max(counts.__?__) # Find the highest count\n",
    "    modes = [num for num, count in counts.items()\n",
    "             if count == max_count\n",
    "    ] # Find all numbers with the highest count\n",
    "    return modes\n",
    "\n",
    "# Approach 2: Using statistics module\n",
    "from statistics import multimode\n",
    "def find_mode_v2(numbers):\n",
    "    return ____________ '''ONE function with ONE Arguement will do \n",
    "                        EVERYTHING AUTOMATICALLY'''\n",
    "\n",
    "# Approach 3: Manual implementation\n",
    "def find_mode_v3(numbers):\n",
    "    # Create dictionary to store counts\n",
    "    count_dict = {}\n",
    "    # Count occurrences\n",
    "    for num in numbers:\n",
    "        if num in count_dict:\n",
    "            count_dict[num] = ____________ # Add \n",
    "        else:\n",
    "            count_dict[num] = ____________ \n",
    "    \n",
    "    # Find maximum count\n",
    "    max_count = ____________\n",
    "    \n",
    "    # Find all numbers with maximum count\n",
    "    modes = ____________\n",
    "    \n",
    "    return modes\n",
    "\n",
    "    # Print the resuts from each of the Approaches:\n",
    "    print(\"Origional List: \", numbers)\n",
    "    print(\"\\n Results from each Approach:\")\n",
    "    print (\"Approach 1: Counter\", find_mode_v1(numbers))\n",
    "    print (\"Approach 2: Statistics\", find_mode_v2(numbers))\n",
    "    print (\"Approach 3: Manual\", find_mode_v3(numbers))"
   ]
  }
 ],
 "metadata": {
  "kernelspec": {
   "display_name": "Python 3",
   "language": "python",
   "name": "python3"
  },
  "language_info": {
   "codemirror_mode": {
    "name": "ipython",
    "version": 3
   },
   "file_extension": ".py",
   "mimetype": "text/x-python",
   "name": "python",
   "nbconvert_exporter": "python",
   "pygments_lexer": "ipython3",
   "version": "3.12.1"
  }
 },
 "nbformat": 4,
 "nbformat_minor": 2
}
