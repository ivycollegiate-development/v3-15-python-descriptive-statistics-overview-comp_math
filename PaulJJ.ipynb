{
 "cells": [
  {
   "cell_type": "code",
   "execution_count": 1,
   "metadata": {},
   "outputs": [],
   "source": [
    "from statistics import mean, median, mode\n",
    "import numpy as np\n",
    "##imports\n",
    "\n",
    "CalculateChoice = input ('What would you like to calculate? Please type mean, median, or mode.')\n",
    "if CalculateChoice == ('mean') or ('Mean'):\n",
    "  def calculate_mean_calculate_mean_wow (numbers):\n",
    "     mean = int(input ('What Set Of Numbers Should I Evaluate?'))\n",
    "     for numbers in mean:\n",
    "       return mean\n"
   ]
  }
 ],
 "metadata": {
  "kernelspec": {
   "display_name": "Python 3",
   "language": "python",
   "name": "python3"
  },
  "language_info": {
   "codemirror_mode": {
    "name": "ipython",
    "version": 3
   },
   "file_extension": ".py",
   "mimetype": "text/x-python",
   "name": "python",
   "nbconvert_exporter": "python",
   "pygments_lexer": "ipython3",
   "version": "3.12.1"
  }
 },
 "nbformat": 4,
 "nbformat_minor": 2
}
