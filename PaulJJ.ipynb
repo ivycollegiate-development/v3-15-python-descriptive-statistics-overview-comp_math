{
 "cells": [
  {
   "cell_type": "code",
   "execution_count": 4,
   "metadata": {},
   "outputs": [],
   "source": [
    "from statistics import mean, median, mode\n",
    "import numpy as np\n",
    "##imports\n",
    "\n",
    "CalculateChoice = input ('What method would you like to use? Please type mean1, mean2, or mean3.')\n",
    "if CalculateChoice == ('mean1') or ('Mean1'):\n",
    "  def calculate_mean__1 (numbers):\n",
    "     mean = int(input ('What Set Of Numbers Should I Evaluate?'))\n",
    "     for numbers in mean:\n",
    "       return mean\n",
    "     \n",
    "if CalculateChoice == ('mean2' or 'Mean2'):\n",
    "  def calculate_mean_2 (numbers):\n",
    "   total = sum(numbers)  \n",
    "   count = len(numbers) \n",
    "   mean = total/count\n",
    "   return mean"
   ]
  }
 ],
 "metadata": {
  "kernelspec": {
   "display_name": "Python 3",
   "language": "python",
   "name": "python3"
  },
  "language_info": {
   "codemirror_mode": {
    "name": "ipython",
    "version": 3
   },
   "file_extension": ".py",
   "mimetype": "text/x-python",
   "name": "python",
   "nbconvert_exporter": "python",
   "pygments_lexer": "ipython3",
   "version": "3.12.1"
  }
 },
 "nbformat": 4,
 "nbformat_minor": 2
}
