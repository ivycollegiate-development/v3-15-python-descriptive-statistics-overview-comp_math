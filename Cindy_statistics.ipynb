{
 "cells": [
  {
   "cell_type": "code",
   "execution_count": 7,
   "metadata": {},
   "outputs": [
    {
     "ename": "TypeError",
     "evalue": "len() takes exactly one argument (0 given)",
     "output_type": "error",
     "traceback": [
      "\u001b[0;31m---------------------------------------------------------------------------\u001b[0m",
      "\u001b[0;31mTypeError\u001b[0m                                 Traceback (most recent call last)",
      "Cell \u001b[0;32mIn[7], line 24\u001b[0m\n\u001b[1;32m     21\u001b[0m     \u001b[38;5;28;01mreturn\u001b[39;00m \u001b[38;5;66;03m# mean()  \u001b[39;00m\n\u001b[1;32m     22\u001b[0m     \u001b[38;5;66;03m# Use np.mean()\u001b[39;00m\n\u001b[0;32m---> 24\u001b[0m \u001b[38;5;28mprint\u001b[39m (\u001b[38;5;124m\"\u001b[39m\u001b[38;5;124mMean using Built in Python functions:\u001b[39m\u001b[38;5;124m\"\u001b[39m, \u001b[43mcalculate_mean_v1\u001b[49m\u001b[43m(\u001b[49m\u001b[43mnumbers\u001b[49m\u001b[43m)\u001b[49m)\n\u001b[1;32m     25\u001b[0m calculate_mean_v2(numbers)\n\u001b[1;32m     26\u001b[0m calculate_mean_v3(numbers)\n",
      "Cell \u001b[0;32mIn[7], line 8\u001b[0m, in \u001b[0;36mcalculate_mean_v1\u001b[0;34m(numbers)\u001b[0m\n\u001b[1;32m      5\u001b[0m \u001b[38;5;28;01mdef\u001b[39;00m \u001b[38;5;21mcalculate_mean_v1\u001b[39m(numbers):\n\u001b[1;32m      6\u001b[0m     \u001b[38;5;66;03m# Structure provided:\u001b[39;00m\n\u001b[1;32m      7\u001b[0m     total \u001b[38;5;241m=\u001b[39m \u001b[38;5;28msum\u001b[39m(numbers)  \u001b[38;5;66;03m# Use sum()\u001b[39;00m\n\u001b[0;32m----> 8\u001b[0m     count \u001b[38;5;241m=\u001b[39m \u001b[38;5;28;43mlen\u001b[39;49m\u001b[43m(\u001b[49m\u001b[43m)\u001b[49m  \u001b[38;5;66;03m# Use len()\u001b[39;00m\n\u001b[1;32m      9\u001b[0m     mean \u001b[38;5;241m=\u001b[39m total\u001b[38;5;241m/\u001b[39mcount  \u001b[38;5;66;03m# Divide total by count\u001b[39;00m\n\u001b[1;32m     10\u001b[0m     \u001b[38;5;28;01mreturn\u001b[39;00m mean\n",
      "\u001b[0;31mTypeError\u001b[0m: len() takes exactly one argument (0 given)"
     ]
    }
   ],
   "source": [
    "numbers = [12, 15, 12, 18, 20, 12, 15, 18]\n",
    "# Choose your preferred method and complete the function:\n",
    "\n",
    "# Method 1: Using built-in functions\n",
    "def calculate_mean_v1(numbers):\n",
    "    # Structure provided:\n",
    "    total = sum(numbers)  # Use sum()\n",
    "    count = len()  # Use len()\n",
    "    mean = total/count  # Divide total by count\n",
    "    return mean\n",
    "\n",
    "# Method 2: Using statistics module\n",
    "from statistics import mean\n",
    "def calculate_mean_v2(numbers):\n",
    "    return # mean()\n",
    "  # Use statistics.mean()\n",
    "\n",
    "# Method 3: Using numpy\n",
    "import numpy as np\n",
    "def calculate_mean_v3(numbers):\n",
    "    return # mean()  \n",
    "    # Use np.mean()\n",
    "\n",
    "print (\"Mean using Built in Python functions:\", calculate_mean_v1(numbers))\n",
    "calculate_mean_v2(numbers)\n",
    "calculate_mean_v3(numbers)"
   ]
  }
 ],
 "metadata": {
  "kernelspec": {
   "display_name": "Python 3",
   "language": "python",
   "name": "python3"
  },
  "language_info": {
   "codemirror_mode": {
    "name": "ipython",
    "version": 3
   },
   "file_extension": ".py",
   "mimetype": "text/x-python",
   "name": "python",
   "nbconvert_exporter": "python",
   "pygments_lexer": "ipython3",
   "version": "3.12.1"
  }
 },
 "nbformat": 4,
 "nbformat_minor": 2
}
