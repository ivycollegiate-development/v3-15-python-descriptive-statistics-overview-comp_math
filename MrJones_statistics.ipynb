{
 "cells": [
  {
   "cell_type": "code",
   "execution_count": null,
   "metadata": {},
   "outputs": [],
   "source": [
    "\n",
    "numbers = [12, 15, 12, 18, 20, 12, 15, 18]\n",
    "# Choose your preferred method and complete the function:\n",
    "\n",
    "# Method 1: Using built-in functions\n",
    "def calculate_mean_v1(numbers):\n",
    "    # Structure provided:\n",
    "    total = sum(numbers)  # Use sum()\n",
    "    count = len(numbers)  # Use len()\n",
    "    mean = total/count  # Divide total by count\n",
    "    return mean\n",
    "\n",
    "# Method 2: Using statistics module\n",
    "from statistics import mean\n",
    "def calculate_mean_v2(numbers):\n",
    "    return mean(numbers) # mean()\n",
    "  # Use statistics.mean()\n",
    "\n",
    "# Method 3: Using numpy\n",
    "import numpy as np\n",
    "def calculate_mean_v3(numbers):\n",
    "    return mean(numbers) # mean()  \n",
    "    # Use np.mean()\n",
    "\n",
    "print (\"Mean using Built in Python functions:\", calculate_mean_v1(numbers))\n",
    "print (\"Mean using Mean Function from Statistics Library:\", calculate_mean_v2(numbers))\n",
    "print (\"Mean using Mean Function from Numpy Library:\", calculate_mean_v3(numbers))"
   ]
  }
 ],
 "metadata": {
  "language_info": {
   "name": "python"
  }
 },
 "nbformat": 4,
 "nbformat_minor": 2
}
