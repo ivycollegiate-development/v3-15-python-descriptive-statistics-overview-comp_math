{
 "cells": [
  {
   "cell_type": "code",
   "execution_count": null,
   "metadata": {
    "vscode": {
     "languageId": "plaintext"
    }
   },
   "outputs": [],
   "source": [
    "# Built-in Functions:\n",
    "sum()     # Sum of numbers\n",
    "len()     # Length of sequence\n",
    "sorted()  # Returns sorted list\n",
    "\n",
    "Data: data_1 = [12, 15, 12, 18, 20, 12, 15, 18]\n",
    "Choose your preferred method and complete the function:\n",
    "# Method 1: Using built-in functions\n",
    "def calculate_mean_v1(numbers):\n",
    "    # Structure provided:\n",
    "    total = ____________  # Use sum()\n",
    "    count = ____________  # Use len()\n",
    "    mean = ____________  # Divide total by count\n",
    "    return mean"
   ]
  }
 ],
 "metadata": {
  "language_info": {
   "name": "python"
  }
 },
 "nbformat": 4,
 "nbformat_minor": 2
}
