{
 "cells": [
  {
   "cell_type": "code",
   "execution_count": 2,
   "metadata": {},
   "outputs": [
    {
     "name": "stdout",
     "output_type": "stream",
     "text": [
      "Mean using Python:  15\n",
      "Mean using Statistiics:  15.25\n",
      "Mean using Numpy:  15.25\n"
     ]
    }
   ],
   "source": [
    "numbers = [12, 15, 12, 18, 20, 12, 15, 18]\n",
    "# Choose your preferred method and complete the function:\n",
    "\n",
    "# Method 1: Using built-in functions\n",
    "def calculate_mean_v1(numbers):\n",
    "    # Structure provided:\n",
    "    total = sum(numbers)  # Use sum()\n",
    "    count = len(numbers)  # Use len()\n",
    "    mean = total//count # Divide total by count\n",
    "    return mean\n",
    "\n",
    "# Method 2: Using statistics module\n",
    "from statistics import mean\n",
    "def calculate_mean_v2(numbers):\n",
    "    return mean(numbers)  # Use statistics.mean()\n",
    "\n",
    "# Method 3: Using numpy\n",
    "import numpy as np\n",
    "def calculate_mean_v3(numbers):\n",
    "    return np.mean(numbers)  # Use np.mean()\n",
    "     \n",
    "print(\"Mean using Python: \", calculate_mean_v1(numbers))\n",
    "print(\"Mean using Statistiics: \", calculate_mean_v2(numbers))\n",
    "print(\"Mean using Numpy: \", calculate_mean_v3(numbers))"
   ]
  },
  {
   "cell_type": "code",
   "execution_count": 1,
   "metadata": {},
   "outputs": [
    {
     "name": "stdout",
     "output_type": "stream",
     "text": [
      "Origional List:  [12, 15, 12, 18, 20, 12, 15, 18]\n",
      "\n",
      " Results from each Approach:\n",
      "Approach 1: Counter [12]\n",
      "Approach 2: Statistics [12]\n",
      "Approach 3: Manual [12]\n"
     ]
    }
   ],
   "source": [
    "numbers = [12, 15, 12, 18, 20, 12, 15, 18]\n",
    "\n",
    "# Approach 1: Using Counter\n",
    "from collections import Counter\n",
    "def find_mode_v1(numbers):\n",
    "    # Create Counter object\n",
    "    counts = Counter(numbers)  # Count occurances\n",
    "    max_count = max(counts.values()) # Find the highest count\n",
    "    modes = [num for num, count in counts.items()\n",
    "             if count == max_count\n",
    "    ] # Find all numbers with the highest count\n",
    "    return modes\n",
    "\n",
    "# Approach 2: Using statistics module\n",
    "from statistics import multimode\n",
    "def find_mode_v2(numbers):\n",
    "    return multimode(numbers) #'''ONE function with ONE Arguement will do EVERYTHING AUTOMATICALLY'''\n",
    "\n",
    "# Approach 3: Manual implementation\n",
    "def find_mode_v3(numbers):\n",
    "    # Create dictionary to store counts\n",
    "    count_dict = {}\n",
    "    # Count occurrences\n",
    "    for num in numbers:\n",
    "        if num in count_dict:\n",
    "            count_dict[num] += 1 # Add \n",
    "        else:\n",
    "            count_dict[num] = 1 #initial \n",
    "    \n",
    "    # Find maximum count\n",
    "    max_count = max(count_dict.values())\n",
    "    \n",
    "    # Find all numbers with maximum count\n",
    "    modes = [num for num, count in count_dict.items() if count == max_count]\n",
    "    \n",
    "    return modes\n",
    "\n",
    "print(\"Origional List: \", numbers)\n",
    "print(\"\\n Results from each Approach:\")\n",
    "print (\"Approach 1: Counter\", find_mode_v1(numbers))\n",
    "print (\"Approach 2: Statistics\", find_mode_v2(numbers))\n",
    "print (\"Approach 3: Manual\", find_mode_v3(numbers))"
   ]
  }
 ],
 "metadata": {
  "kernelspec": {
   "display_name": "Python 3",
   "language": "python",
   "name": "python3"
  },
  "language_info": {
   "codemirror_mode": {
    "name": "ipython",
    "version": 3
   },
   "file_extension": ".py",
   "mimetype": "text/x-python",
   "name": "python",
   "nbconvert_exporter": "python",
   "pygments_lexer": "ipython3",
   "version": "3.12.1"
  }
 },
 "nbformat": 4,
 "nbformat_minor": 2
}
