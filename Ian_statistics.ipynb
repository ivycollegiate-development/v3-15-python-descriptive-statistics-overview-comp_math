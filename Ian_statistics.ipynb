{
 "cells": [
  {
   "cell_type": "code",
   "execution_count": 2,
   "metadata": {},
   "outputs": [
    {
     "name": "stdout",
     "output_type": "stream",
     "text": [
      "Mean using Python:  15\n",
      "Mean using Statistiics:  15.25\n",
      "Mean using Numpy:  15.25\n"
     ]
    }
   ],
   "source": [
    "numbers = [12, 15, 12, 18, 20, 12, 15, 18]\n",
    "# Choose your preferred method and complete the function:\n",
    "\n",
    "# Method 1: Using built-in functions\n",
    "def calculate_mean_v1(numbers):\n",
    "    # Structure provided:\n",
    "    total = sum(numbers)  # Use sum()\n",
    "    count = len(numbers)  # Use len()\n",
    "    mean = total//count # Divide total by count\n",
    "    return mean\n",
    "\n",
    "# Method 2: Using statistics module\n",
    "from statistics import mean\n",
    "def calculate_mean_v2(numbers):\n",
    "    return mean(numbers)  # Use statistics.mean()\n",
    "\n",
    "# Method 3: Using numpy\n",
    "import numpy as np\n",
    "def calculate_mean_v3(numbers):\n",
    "    return np.mean(numbers)  # Use np.mean()\n",
    "     \n",
    "print(\"Mean using Python: \", calculate_mean_v1(numbers))\n",
    "print(\"Mean using Statistiics: \", calculate_mean_v2(numbers))\n",
    "print(\"Mean using Numpy: \", calculate_mean_v3(numbers))"
   ]
  },
  {
   "cell_type": "code",
   "execution_count": 5,
   "metadata": {},
   "outputs": [
    {
     "name": "stdout",
     "output_type": "stream",
     "text": [
      "Origional List:  [12, 15, 12, 18, 20, 12, 15, 18]\n",
      "\n",
      " Results from each Approach:\n"
     ]
    },
    {
     "ename": "TypeError",
     "evalue": "'builtin_function_or_method' object is not iterable",
     "output_type": "error",
     "traceback": [
      "\u001b[0;31m---------------------------------------------------------------------------\u001b[0m",
      "\u001b[0;31mTypeError\u001b[0m                                 Traceback (most recent call last)",
      "Cell \u001b[0;32mIn[5], line 40\u001b[0m\n\u001b[1;32m     38\u001b[0m \u001b[38;5;28mprint\u001b[39m(\u001b[38;5;124m\"\u001b[39m\u001b[38;5;124mOrigional List: \u001b[39m\u001b[38;5;124m\"\u001b[39m, numbers)\n\u001b[1;32m     39\u001b[0m \u001b[38;5;28mprint\u001b[39m(\u001b[38;5;124m\"\u001b[39m\u001b[38;5;130;01m\\n\u001b[39;00m\u001b[38;5;124m Results from each Approach:\u001b[39m\u001b[38;5;124m\"\u001b[39m)\n\u001b[0;32m---> 40\u001b[0m \u001b[38;5;28mprint\u001b[39m (\u001b[38;5;124m\"\u001b[39m\u001b[38;5;124mApproach 1: Counter\u001b[39m\u001b[38;5;124m\"\u001b[39m, \u001b[43mfind_mode_v1\u001b[49m\u001b[43m(\u001b[49m\u001b[43mnumbers\u001b[49m\u001b[43m)\u001b[49m)\n\u001b[1;32m     41\u001b[0m \u001b[38;5;28mprint\u001b[39m (\u001b[38;5;124m\"\u001b[39m\u001b[38;5;124mApproach 2: Statistics\u001b[39m\u001b[38;5;124m\"\u001b[39m, find_mode_v2(numbers))\n\u001b[1;32m     42\u001b[0m \u001b[38;5;28mprint\u001b[39m (\u001b[38;5;124m\"\u001b[39m\u001b[38;5;124mApproach 3: Manual\u001b[39m\u001b[38;5;124m\"\u001b[39m, find_mode_v3(numbers))\n",
      "Cell \u001b[0;32mIn[5], line 8\u001b[0m, in \u001b[0;36mfind_mode_v1\u001b[0;34m(numbers)\u001b[0m\n\u001b[1;32m      5\u001b[0m \u001b[38;5;28;01mdef\u001b[39;00m \u001b[38;5;21mfind_mode_v1\u001b[39m(numbers):\n\u001b[1;32m      6\u001b[0m     \u001b[38;5;66;03m# Create Counter object\u001b[39;00m\n\u001b[1;32m      7\u001b[0m     counts \u001b[38;5;241m=\u001b[39m Counter(numbers)  \u001b[38;5;66;03m# Count occurances\u001b[39;00m\n\u001b[0;32m----> 8\u001b[0m     max_count \u001b[38;5;241m=\u001b[39m \u001b[38;5;28;43mmax\u001b[39;49m\u001b[43m(\u001b[49m\u001b[43mcounts\u001b[49m\u001b[38;5;241;43m.\u001b[39;49m\u001b[43mvalues\u001b[49m\u001b[43m)\u001b[49m \u001b[38;5;66;03m# Find the highest count\u001b[39;00m\n\u001b[1;32m      9\u001b[0m     modes \u001b[38;5;241m=\u001b[39m [num \u001b[38;5;28;01mfor\u001b[39;00m num, count \u001b[38;5;129;01min\u001b[39;00m counts\u001b[38;5;241m.\u001b[39mitems()\n\u001b[1;32m     10\u001b[0m              \u001b[38;5;28;01mif\u001b[39;00m count \u001b[38;5;241m==\u001b[39m max_count\n\u001b[1;32m     11\u001b[0m     ] \u001b[38;5;66;03m# Find all numbers with the highest count\u001b[39;00m\n\u001b[1;32m     12\u001b[0m     \u001b[38;5;28;01mreturn\u001b[39;00m modes\n",
      "\u001b[0;31mTypeError\u001b[0m: 'builtin_function_or_method' object is not iterable"
     ]
    }
   ],
   "source": [
    "numbers = [12, 15, 12, 18, 20, 12, 15, 18]\n",
    "\n",
    "# Approach 1: Using Counter\n",
    "from collections import Counter\n",
    "def find_mode_v1(numbers):\n",
    "    # Create Counter object\n",
    "    counts = Counter(numbers)  # Count occurances\n",
    "    max_count = max(counts.values) # Find the highest count\n",
    "    modes = [num for num, count in counts.items()\n",
    "             if count == max_count\n",
    "    ] # Find all numbers with the highest count\n",
    "    return modes\n",
    "\n",
    "# Approach 2: Using statistics module\n",
    "from statistics import multimode\n",
    "def find_mode_v2(numbers):\n",
    "    return multimode(numbers) #'''ONE function with ONE Arguement will do EVERYTHING AUTOMATICALLY'''\n",
    "\n",
    "# Approach 3: Manual implementation\n",
    "def find_mode_v3(numbers):\n",
    "    # Create dictionary to store counts\n",
    "    count_dict = {}\n",
    "    # Count occurrences\n",
    "    for num in numbers:\n",
    "        if num in count_dict:\n",
    "            count_dict[num] += 1 # Add \n",
    "        else:\n",
    "            count_dict[num] = 1 #initial \n",
    "    \n",
    "    # Find maximum count\n",
    "    max_count = max(count_dict.values())\n",
    "    \n",
    "    # Find all numbers with maximum count\n",
    "    modes = [num for num, count in count_dict.items() if count == max_count]\n",
    "    \n",
    "    return modes\n",
    "\n",
    "print(\"Origional List: \", numbers)\n",
    "print(\"\\n Results from each Approach:\")\n",
    "print (\"Approach 1: Counter\", find_mode_v1(numbers))\n",
    "print (\"Approach 2: Statistics\", find_mode_v2(numbers))\n",
    "print (\"Approach 3: Manual\", find_mode_v3(numbers))"
   ]
  }
 ],
 "metadata": {
  "kernelspec": {
   "display_name": "Python 3",
   "language": "python",
   "name": "python3"
  },
  "language_info": {
   "codemirror_mode": {
    "name": "ipython",
    "version": 3
   },
   "file_extension": ".py",
   "mimetype": "text/x-python",
   "name": "python",
   "nbconvert_exporter": "python",
   "pygments_lexer": "ipython3",
   "version": "3.12.1"
  }
 },
 "nbformat": 4,
 "nbformat_minor": 2
}
