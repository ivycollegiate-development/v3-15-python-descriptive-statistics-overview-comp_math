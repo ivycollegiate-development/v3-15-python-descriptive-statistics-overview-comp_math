{
 "cells": [
  {
   "cell_type": "code",
   "execution_count": 7,
   "metadata": {},
   "outputs": [
    {
     "data": {
      "text/plain": [
       "np.float64(15.25)"
      ]
     },
     "execution_count": 7,
     "metadata": {},
     "output_type": "execute_result"
    }
   ],
   "source": [
    "numbers = [12, 15, 12, 18, 20, 12, 15, 18]\n",
    "# Choose your preferred method and complete the function:\n",
    "\n",
    "# Method 1: Using built-in functions\n",
    "def calculate_mean_v1(numbers):\n",
    "    # Structure provided:\n",
    "    total = sum(numbers)  # Use sum()\n",
    "    count = len(numbers)  # Use len()\n",
    "    mean = total//count # Divide total by count\n",
    "    return mean\n",
    "\n",
    "# Method 2: Using statistics module\n",
    "from statistics import mean\n",
    "def calculate_mean_v2(numbers):\n",
    "    return mean(numbers)  # Use statistics.mean()\n",
    "\n",
    "# Method 3: Using numpy\n",
    "import numpy as np\n",
    "def calculate_mean_v3(numbers):\n",
    "    return np.mean(numbers)  # Use np.mean()\n",
    "     \n",
    "calculate_mean_v1(numbers)\n",
    "calculate_mean_v2(numbers)\n",
    "calculate_mean_v3(numbers)"
   ]
  }
 ],
 "metadata": {
  "kernelspec": {
   "display_name": "Python 3",
   "language": "python",
   "name": "python3"
  },
  "language_info": {
   "codemirror_mode": {
    "name": "ipython",
    "version": 3
   },
   "file_extension": ".py",
   "mimetype": "text/x-python",
   "name": "python",
   "nbconvert_exporter": "python",
   "pygments_lexer": "ipython3",
   "version": "3.12.1"
  }
 },
 "nbformat": 4,
 "nbformat_minor": 2
}
